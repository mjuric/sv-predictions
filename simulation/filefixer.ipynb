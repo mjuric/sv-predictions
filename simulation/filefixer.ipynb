{
 "cells": [
  {
   "cell_type": "code",
   "execution_count": null,
   "id": "b54bec2a-e630-48a2-9a44-8cd752b6f50f",
   "metadata": {},
   "outputs": [],
   "source": [
    "import pandas as pd\n",
    "BASE_DIR = \"./simulated/neo/\"\n",
    "df = pd.read_hdf(f\"{BASE_DIR}/large_neo_input.h5\")\n",
    "df_every_10th = df1.iloc[::10]\n",
    "\n",
    "\n",
    "df_every_10th.to_csv(f\"{BASE_DIR}/large_neo_input.csv\", index=False)\n"
   ]
  },
  {
   "cell_type": "code",
   "execution_count": 1,
   "id": "c21d19d8-b4f2-4e24-95df-c82a260ebb2a",
   "metadata": {},
   "outputs": [
    {
     "ename": "NameError",
     "evalue": "name 'df' is not defined",
     "output_type": "error",
     "traceback": [
      "\u001b[31m---------------------------------------------------------------------------\u001b[39m",
      "\u001b[31mNameError\u001b[39m                                 Traceback (most recent call last)",
      "\u001b[36mCell\u001b[39m\u001b[36m \u001b[39m\u001b[32mIn[1]\u001b[39m\u001b[32m, line 1\u001b[39m\n\u001b[32m----> \u001b[39m\u001b[32m1\u001b[39m dfo = \u001b[43mdf\u001b[49m[[\u001b[33m\"\u001b[39m\u001b[33mObjID\u001b[39m\u001b[33m\"\u001b[39m, \u001b[33m\"\u001b[39m\u001b[33mFORMAT\u001b[39m\u001b[33m\"\u001b[39m, \u001b[33m\"\u001b[39m\u001b[33ma\u001b[39m\u001b[33m\"\u001b[39m, \u001b[33m\"\u001b[39m\u001b[33me\u001b[39m\u001b[33m\"\u001b[39m, \u001b[33m\"\u001b[39m\u001b[33minc\u001b[39m\u001b[33m\"\u001b[39m, \u001b[33m\"\u001b[39m\u001b[33mnode\u001b[39m\u001b[33m\"\u001b[39m, \u001b[33m\"\u001b[39m\u001b[33margPeri\u001b[39m\u001b[33m\"\u001b[39m, \u001b[33m\"\u001b[39m\u001b[33mma\u001b[39m\u001b[33m\"\u001b[39m, \u001b[33m\"\u001b[39m\u001b[33mepochMJD_TDB\u001b[39m\u001b[33m\"\u001b[39m]]\n\u001b[32m      2\u001b[39m dfc = df[[\u001b[33m\"\u001b[39m\u001b[33mObjID\u001b[39m\u001b[33m\"\u001b[39m, \u001b[33m\"\u001b[39m\u001b[33mH_r\u001b[39m\u001b[33m\"\u001b[39m, \u001b[33m\"\u001b[39m\u001b[33mu-r\u001b[39m\u001b[33m\"\u001b[39m, \u001b[33m\"\u001b[39m\u001b[33mg-r\u001b[39m\u001b[33m\"\u001b[39m, \u001b[33m\"\u001b[39m\u001b[33mi-r\u001b[39m\u001b[33m\"\u001b[39m, \u001b[33m\"\u001b[39m\u001b[33mz-r\u001b[39m\u001b[33m\"\u001b[39m, \u001b[33m\"\u001b[39m\u001b[33my-r\u001b[39m\u001b[33m\"\u001b[39m, \u001b[33m\"\u001b[39m\u001b[33mGS\u001b[39m\u001b[33m\"\u001b[39m]]\n\u001b[32m      4\u001b[39m dfo.to_csv(\u001b[33mf\u001b[39m\u001b[33m\"\u001b[39m\u001b[38;5;132;01m{\u001b[39;00mBASE_DIR\u001b[38;5;132;01m}\u001b[39;00m\u001b[33m/orbits.csv\u001b[39m\u001b[33m\"\u001b[39m, index=\u001b[38;5;28;01mFalse\u001b[39;00m)\n",
      "\u001b[31mNameError\u001b[39m: name 'df' is not defined"
     ]
    }
   ],
   "source": [
    "df_orbits = df[[\"ObjID\", \"FORMAT\", \"a\", \"e\", \"inc\", \"node\", \"argPeri\", \"ma\", \"epochMJD_TDB\"]]\n",
    "df_colors = df[[\"ObjID\", \"H_r\", \"u-r\", \"g-r\", \"i-r\", \"z-r\", \"y-r\", \"GS\"]]\n",
    "\n",
    "df_orbits.to_csv(f\"{BASE_DIR}/orbits.csv\", index=False)\n",
    "df_colors.to_csv(f\"{BASE_DIR}/colors.csv\", index=False)"
   ]
  },
  {
   "cell_type": "code",
   "execution_count": 22,
   "id": "318d5f01-4009-4eb3-8465-36ce0bd2a30d",
   "metadata": {},
   "outputs": [],
   "source": [
    "df_colorfix= pd.read_csv(\"./real_data/colors.csv\")\n",
    "\n",
    "#from the population analysis\n",
    "df_colorfix[\"u-r\"] = 1.2943602720177587\n",
    "df_colorfix[\"g-r\"] = 0.6223806618935939\n",
    "df_colorfix[\"i-r\"] = -0.4345498488313666\n",
    "df_colorfix[\"z-r\"] = -0.7216919320431288\n",
    "df_colorfix[\"y-r\"] = -0.9464060643574363\n",
    "\n",
    "\n",
    "# Save it back to the same file (overwrite)\n",
    "df_colorfix.to_csv(\"./real_data/colors.csv\", index=False)\n"
   ]
  },
  {
   "cell_type": "code",
   "execution_count": null,
   "id": "e9d9ea59-e160-4902-a99d-b05ec513ccba",
   "metadata": {},
   "outputs": [],
   "source": []
  }
 ],
 "metadata": {
  "kernelspec": {
   "display_name": "LSDB March 2025",
   "language": "python",
   "name": "lsdb_latest"
  },
  "language_info": {
   "codemirror_mode": {
    "name": "ipython",
    "version": 3
   },
   "file_extension": ".py",
   "mimetype": "text/x-python",
   "name": "python",
   "nbconvert_exporter": "python",
   "pygments_lexer": "ipython3",
   "version": "3.11.11"
  }
 },
 "nbformat": 4,
 "nbformat_minor": 5
}
