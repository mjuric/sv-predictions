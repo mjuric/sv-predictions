{
 "cells": [
  {
   "cell_type": "code",
   "execution_count": null,
   "id": "b54bec2a-e630-48a2-9a44-8cd752b6f50f",
   "metadata": {},
   "outputs": [],
   "source": [
    "import pandas as pd\n",
    "BASE_DIR = \"./simulated/neo/\"\n",
    "df1 = pd.read_hdf(f\"{BASE_DIR}/large_neo_input.h5\")\n",
    "df1_every_10th = df1.iloc[::10]\n",
    "\n",
    "#df2 = pd.read_hdf(f\"{BASE_DIR}/orbits.h5\")\n",
    "df1_every_10th.to_csv(f\"{BASE_DIR}/large_neo_input.csv\", index=False)\n",
    "#df2.to_csv(f\"{BASE_DIR}/orbits.csv\", index=False)"
   ]
  },
  {
   "cell_type": "code",
   "execution_count": 18,
   "id": "c21d19d8-b4f2-4e24-95df-c82a260ebb2a",
   "metadata": {},
   "outputs": [],
   "source": [
    "dfo = df1[[\"ObjID\", \"FORMAT\", \"a\", \"e\", \"inc\", \"node\", \"argPeri\", \"ma\", \"epochMJD_TDB\"]]\n",
    "dfc = df1[[\"ObjID\", \"H_r\", \"u-r\", \"g-r\", \"i-r\", \"z-r\", \"y-r\", \"GS\"]]\n",
    "\n",
    "dfo.to_csv(f\"{BASE_DIR}/orbits.csv\", index=False)\n",
    "dfc.to_csv(f\"{BASE_DIR}/colors.csv\", index=False)"
   ]
  },
  {
   "cell_type": "code",
   "execution_count": 22,
   "id": "318d5f01-4009-4eb3-8465-36ce0bd2a30d",
   "metadata": {},
   "outputs": [],
   "source": [
    "df1 = pd.read_csv(\"./real_data/colors.csv\")\n",
    "#df2 = pd.read_csv(\"/epyc/users/mihael/vsa/real_data/mpcorb-colors.2025-05-27.csv\")\n",
    "#df3 = pd.read_csv(\"/epyc/users/mihael/vsa/simulated/mba/colours/s3m_colors.csv_split_1.csv\")\n",
    "\n",
    "\n",
    "# Remove the 'EpochMJD_TDB' column\n",
    "df1[\"u-r\"] = 1.2943602720177587\n",
    "df1[\"g-r\"] = 0.6223806618935939\n",
    "df1[\"i-r\"] = -0.4345498488313666\n",
    "df1[\"z-r\"] = -0.7216919320431288\n",
    "df1[\"y-r\"] = -0.9464060643574363\n",
    "\n",
    "\n",
    "# Save it back to the same file (overwrite)\n",
    "df1.to_csv(\"./real_data/colors.csv\", index=False)\n"
   ]
  },
  {
   "cell_type": "code",
   "execution_count": null,
   "id": "e9d9ea59-e160-4902-a99d-b05ec513ccba",
   "metadata": {},
   "outputs": [],
   "source": []
  }
 ],
 "metadata": {
  "kernelspec": {
   "display_name": "Python (sorcha)",
   "language": "python",
   "name": "sorcha"
  },
  "language_info": {
   "codemirror_mode": {
    "name": "ipython",
    "version": 3
   },
   "file_extension": ".py",
   "mimetype": "text/x-python",
   "name": "python",
   "nbconvert_exporter": "python",
   "pygments_lexer": "ipython3",
   "version": "3.12.11"
  }
 },
 "nbformat": 4,
 "nbformat_minor": 5
}
